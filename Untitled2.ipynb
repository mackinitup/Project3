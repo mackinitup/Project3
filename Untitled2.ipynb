{
  "nbformat": 4,
  "nbformat_minor": 0,
  "metadata": {
    "colab": {
      "name": "Untitled2.ipynb",
      "version": "0.3.2",
      "provenance": [],
      "collapsed_sections": [],
      "include_colab_link": true
    },
    "kernelspec": {
      "name": "python3",
      "display_name": "Python 3"
    }
  },
  "cells": [
    {
      "cell_type": "markdown",
      "metadata": {
        "id": "view-in-github",
        "colab_type": "text"
      },
      "source": [
        "<a href=\"https://colab.research.google.com/github/mackinitup/Project3/blob/master/Untitled2.ipynb\" target=\"_parent\"><img src=\"https://colab.research.google.com/assets/colab-badge.svg\" alt=\"Open In Colab\"/></a>"
      ]
    },
    {
      "metadata": {
        "id": "yuMCDMJ-iZFp",
        "colab_type": "code",
        "colab": {}
      },
      "cell_type": "code",
      "source": [
        "import numpy as np\n",
        "import pandas as pd"
      ],
      "execution_count": 0,
      "outputs": []
    },
    {
      "metadata": {
        "id": "9EVxjaY0jCg-",
        "colab_type": "code",
        "colab": {}
      },
      "cell_type": "code",
      "source": [
        "df = pd.read_csv(\"https://raw.githubusercontent.com/mackinitup/president_heights/master/Demographic_Statistics_By_Zip_Code.csv\")"
      ],
      "execution_count": 0,
      "outputs": []
    },
    {
      "metadata": {
        "id": "HtMXtmCEjkpT",
        "colab_type": "code",
        "colab": {
          "base_uri": "https://localhost:8080/",
          "height": 303
        },
        "outputId": "495ddfbc-be54-482b-b931-29f9978187f3"
      },
      "cell_type": "code",
      "source": [
        "df.head()"
      ],
      "execution_count": 20,
      "outputs": [
        {
          "output_type": "execute_result",
          "data": {
            "text/html": [
              "<div>\n",
              "<style scoped>\n",
              "    .dataframe tbody tr th:only-of-type {\n",
              "        vertical-align: middle;\n",
              "    }\n",
              "\n",
              "    .dataframe tbody tr th {\n",
              "        vertical-align: top;\n",
              "    }\n",
              "\n",
              "    .dataframe thead th {\n",
              "        text-align: right;\n",
              "    }\n",
              "</style>\n",
              "<table border=\"1\" class=\"dataframe\">\n",
              "  <thead>\n",
              "    <tr style=\"text-align: right;\">\n",
              "      <th></th>\n",
              "      <th>JURISDICTION NAME</th>\n",
              "      <th>COUNT PARTICIPANTS</th>\n",
              "      <th>COUNT FEMALE</th>\n",
              "      <th>PERCENT FEMALE</th>\n",
              "      <th>COUNT MALE</th>\n",
              "      <th>PERCENT MALE</th>\n",
              "      <th>COUNT GENDER UNKNOWN</th>\n",
              "      <th>PERCENT GENDER UNKNOWN</th>\n",
              "      <th>COUNT GENDER TOTAL</th>\n",
              "      <th>PERCENT GENDER TOTAL</th>\n",
              "      <th>...</th>\n",
              "      <th>COUNT CITIZEN STATUS TOTAL</th>\n",
              "      <th>PERCENT CITIZEN STATUS TOTAL</th>\n",
              "      <th>COUNT RECEIVES PUBLIC ASSISTANCE</th>\n",
              "      <th>PERCENT RECEIVES PUBLIC ASSISTANCE</th>\n",
              "      <th>COUNT NRECEIVES PUBLIC ASSISTANCE</th>\n",
              "      <th>PERCENT NRECEIVES PUBLIC ASSISTANCE</th>\n",
              "      <th>COUNT PUBLIC ASSISTANCE UNKNOWN</th>\n",
              "      <th>PERCENT PUBLIC ASSISTANCE UNKNOWN</th>\n",
              "      <th>COUNT PUBLIC ASSISTANCE TOTAL</th>\n",
              "      <th>PERCENT PUBLIC ASSISTANCE TOTAL</th>\n",
              "    </tr>\n",
              "  </thead>\n",
              "  <tbody>\n",
              "    <tr>\n",
              "      <th>0</th>\n",
              "      <td>10001</td>\n",
              "      <td>44</td>\n",
              "      <td>22</td>\n",
              "      <td>0.50</td>\n",
              "      <td>22</td>\n",
              "      <td>0.50</td>\n",
              "      <td>0</td>\n",
              "      <td>0</td>\n",
              "      <td>44</td>\n",
              "      <td>100</td>\n",
              "      <td>...</td>\n",
              "      <td>44</td>\n",
              "      <td>100</td>\n",
              "      <td>20</td>\n",
              "      <td>0.45</td>\n",
              "      <td>24</td>\n",
              "      <td>0.55</td>\n",
              "      <td>0</td>\n",
              "      <td>0</td>\n",
              "      <td>44</td>\n",
              "      <td>100</td>\n",
              "    </tr>\n",
              "    <tr>\n",
              "      <th>1</th>\n",
              "      <td>10002</td>\n",
              "      <td>35</td>\n",
              "      <td>19</td>\n",
              "      <td>0.54</td>\n",
              "      <td>16</td>\n",
              "      <td>0.46</td>\n",
              "      <td>0</td>\n",
              "      <td>0</td>\n",
              "      <td>35</td>\n",
              "      <td>100</td>\n",
              "      <td>...</td>\n",
              "      <td>35</td>\n",
              "      <td>100</td>\n",
              "      <td>2</td>\n",
              "      <td>0.06</td>\n",
              "      <td>33</td>\n",
              "      <td>0.94</td>\n",
              "      <td>0</td>\n",
              "      <td>0</td>\n",
              "      <td>35</td>\n",
              "      <td>100</td>\n",
              "    </tr>\n",
              "    <tr>\n",
              "      <th>2</th>\n",
              "      <td>10003</td>\n",
              "      <td>1</td>\n",
              "      <td>1</td>\n",
              "      <td>1.00</td>\n",
              "      <td>0</td>\n",
              "      <td>0.00</td>\n",
              "      <td>0</td>\n",
              "      <td>0</td>\n",
              "      <td>1</td>\n",
              "      <td>100</td>\n",
              "      <td>...</td>\n",
              "      <td>1</td>\n",
              "      <td>100</td>\n",
              "      <td>0</td>\n",
              "      <td>0.00</td>\n",
              "      <td>1</td>\n",
              "      <td>1.00</td>\n",
              "      <td>0</td>\n",
              "      <td>0</td>\n",
              "      <td>1</td>\n",
              "      <td>100</td>\n",
              "    </tr>\n",
              "    <tr>\n",
              "      <th>3</th>\n",
              "      <td>10004</td>\n",
              "      <td>0</td>\n",
              "      <td>0</td>\n",
              "      <td>0.00</td>\n",
              "      <td>0</td>\n",
              "      <td>0.00</td>\n",
              "      <td>0</td>\n",
              "      <td>0</td>\n",
              "      <td>0</td>\n",
              "      <td>0</td>\n",
              "      <td>...</td>\n",
              "      <td>0</td>\n",
              "      <td>0</td>\n",
              "      <td>0</td>\n",
              "      <td>0.00</td>\n",
              "      <td>0</td>\n",
              "      <td>0.00</td>\n",
              "      <td>0</td>\n",
              "      <td>0</td>\n",
              "      <td>0</td>\n",
              "      <td>0</td>\n",
              "    </tr>\n",
              "    <tr>\n",
              "      <th>4</th>\n",
              "      <td>10005</td>\n",
              "      <td>2</td>\n",
              "      <td>2</td>\n",
              "      <td>1.00</td>\n",
              "      <td>0</td>\n",
              "      <td>0.00</td>\n",
              "      <td>0</td>\n",
              "      <td>0</td>\n",
              "      <td>2</td>\n",
              "      <td>100</td>\n",
              "      <td>...</td>\n",
              "      <td>2</td>\n",
              "      <td>100</td>\n",
              "      <td>0</td>\n",
              "      <td>0.00</td>\n",
              "      <td>2</td>\n",
              "      <td>1.00</td>\n",
              "      <td>0</td>\n",
              "      <td>0</td>\n",
              "      <td>2</td>\n",
              "      <td>100</td>\n",
              "    </tr>\n",
              "  </tbody>\n",
              "</table>\n",
              "<p>5 rows × 46 columns</p>\n",
              "</div>"
            ],
            "text/plain": [
              "   JURISDICTION NAME  COUNT PARTICIPANTS  COUNT FEMALE  PERCENT FEMALE  \\\n",
              "0              10001                  44            22            0.50   \n",
              "1              10002                  35            19            0.54   \n",
              "2              10003                   1             1            1.00   \n",
              "3              10004                   0             0            0.00   \n",
              "4              10005                   2             2            1.00   \n",
              "\n",
              "   COUNT MALE  PERCENT MALE  COUNT GENDER UNKNOWN  PERCENT GENDER UNKNOWN  \\\n",
              "0          22          0.50                     0                       0   \n",
              "1          16          0.46                     0                       0   \n",
              "2           0          0.00                     0                       0   \n",
              "3           0          0.00                     0                       0   \n",
              "4           0          0.00                     0                       0   \n",
              "\n",
              "   COUNT GENDER TOTAL  PERCENT GENDER TOTAL               ...                 \\\n",
              "0                  44                   100               ...                  \n",
              "1                  35                   100               ...                  \n",
              "2                   1                   100               ...                  \n",
              "3                   0                     0               ...                  \n",
              "4                   2                   100               ...                  \n",
              "\n",
              "   COUNT CITIZEN STATUS TOTAL  PERCENT CITIZEN STATUS TOTAL  \\\n",
              "0                          44                           100   \n",
              "1                          35                           100   \n",
              "2                           1                           100   \n",
              "3                           0                             0   \n",
              "4                           2                           100   \n",
              "\n",
              "   COUNT RECEIVES PUBLIC ASSISTANCE  PERCENT RECEIVES PUBLIC ASSISTANCE  \\\n",
              "0                                20                                0.45   \n",
              "1                                 2                                0.06   \n",
              "2                                 0                                0.00   \n",
              "3                                 0                                0.00   \n",
              "4                                 0                                0.00   \n",
              "\n",
              "   COUNT NRECEIVES PUBLIC ASSISTANCE  PERCENT NRECEIVES PUBLIC ASSISTANCE  \\\n",
              "0                                 24                                 0.55   \n",
              "1                                 33                                 0.94   \n",
              "2                                  1                                 1.00   \n",
              "3                                  0                                 0.00   \n",
              "4                                  2                                 1.00   \n",
              "\n",
              "   COUNT PUBLIC ASSISTANCE UNKNOWN  PERCENT PUBLIC ASSISTANCE UNKNOWN  \\\n",
              "0                                0                                  0   \n",
              "1                                0                                  0   \n",
              "2                                0                                  0   \n",
              "3                                0                                  0   \n",
              "4                                0                                  0   \n",
              "\n",
              "   COUNT PUBLIC ASSISTANCE TOTAL  PERCENT PUBLIC ASSISTANCE TOTAL  \n",
              "0                             44                              100  \n",
              "1                             35                              100  \n",
              "2                              1                              100  \n",
              "3                              0                                0  \n",
              "4                              2                              100  \n",
              "\n",
              "[5 rows x 46 columns]"
            ]
          },
          "metadata": {
            "tags": []
          },
          "execution_count": 20
        }
      ]
    },
    {
      "metadata": {
        "id": "q56L__gQmqVb",
        "colab_type": "code",
        "colab": {
          "base_uri": "https://localhost:8080/",
          "height": 34
        },
        "outputId": "271c14c9-a013-40cf-b651-51ee5b7c8712"
      },
      "cell_type": "code",
      "source": [
        "df[\"COUNT PARTICIPANTS\"].mean()"
      ],
      "execution_count": 30,
      "outputs": [
        {
          "output_type": "execute_result",
          "data": {
            "text/plain": [
              "17.661016949152543"
            ]
          },
          "metadata": {
            "tags": []
          },
          "execution_count": 30
        }
      ]
    },
    {
      "metadata": {
        "id": "NsV3k0wtpvHF",
        "colab_type": "code",
        "colab": {
          "base_uri": "https://localhost:8080/",
          "height": 34
        },
        "outputId": "8e2381a4-00bf-4356-f147-920ad0ac19f2"
      },
      "cell_type": "code",
      "source": [
        "df[\"COUNT PARTICIPANTS\"].std()"
      ],
      "execution_count": 29,
      "outputs": [
        {
          "output_type": "execute_result",
          "data": {
            "text/plain": [
              "43.279737352996854"
            ]
          },
          "metadata": {
            "tags": []
          },
          "execution_count": 29
        }
      ]
    },
    {
      "metadata": {
        "id": "ngmLnYrArEn1",
        "colab_type": "code",
        "colab": {
          "base_uri": "https://localhost:8080/",
          "height": 34
        },
        "outputId": "9e19a175-9671-456e-c1f8-2f031c6e4be2"
      },
      "cell_type": "code",
      "source": [
        "df[\"COUNT PARTICIPANTS\"].min()"
      ],
      "execution_count": 28,
      "outputs": [
        {
          "output_type": "execute_result",
          "data": {
            "text/plain": [
              "0"
            ]
          },
          "metadata": {
            "tags": []
          },
          "execution_count": 28
        }
      ]
    },
    {
      "metadata": {
        "id": "TIPM2LBsrGpH",
        "colab_type": "code",
        "colab": {
          "base_uri": "https://localhost:8080/",
          "height": 34
        },
        "outputId": "7a4bee72-1587-4dec-ee00-7e3c5dbc70c4"
      },
      "cell_type": "code",
      "source": [
        "df[\"COUNT PARTICIPANTS\"].max()"
      ],
      "execution_count": 27,
      "outputs": [
        {
          "output_type": "execute_result",
          "data": {
            "text/plain": [
              "272"
            ]
          },
          "metadata": {
            "tags": []
          },
          "execution_count": 27
        }
      ]
    }
  ]
}