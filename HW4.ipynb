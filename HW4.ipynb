{
  "nbformat": 4,
  "nbformat_minor": 0,
  "metadata": {
    "colab": {
      "name": "Untitled",
      "version": "0.3.2",
      "provenance": [],
      "include_colab_link": true
    },
    "kernelspec": {
      "name": "python3",
      "display_name": "Python 3"
    }
  },
  "cells": [
    {
      "cell_type": "markdown",
      "metadata": {
        "id": "view-in-github",
        "colab_type": "text"
      },
      "source": [
        "<a href=\"https://colab.research.google.com/github/mackinitup/Project3/blob/master/HW4.ipynb\" target=\"_parent\"><img src=\"https://colab.research.google.com/assets/colab-badge.svg\" alt=\"Open In Colab\"/></a>"
      ]
    },
    {
      "metadata": {
        "id": "edo-7rSMIdSq",
        "colab_type": "code",
        "outputId": "6c218647-422c-42b0-85f5-cbe7d5adfea6",
        "colab": {
          "base_uri": "https://localhost:8080/",
          "height": 300
        }
      },
      "cell_type": "code",
      "source": [
        "%pylab inline\n",
        "import pandas as pd\n",
        "import matplotlib.pylab as plt\n",
        "\n",
        "df = pd.read_csv('https://gist.githubusercontent.com/curran/a08a1080b88344b0c8a7/raw/d546eaee765268bf2f487608c537c05e22e4b221/iris.csv')\n",
        "\n",
        "setosa = df[df.species=='setosa']\n",
        "versicolor = df[df.species=='versicolor']\n",
        "virginica = df[df.species=='virginica']\n",
        "\n",
        "s = plot(setosa['sepal_length'],setosa['petal_length'],'bo')\n",
        "vi = plot(virginica['sepal_length'],virginica['petal_length'],'go')\n",
        "ve = plot(versicolor['sepal_length'],versicolor['petal_length'],'ro')\n",
        "lx = ve[0].axes.set_xlabel('Sepal Length')\n",
        "ly = ve[0].axes.set_ylabel('Petal Length')"
      ],
      "execution_count": 0,
      "outputs": [
        {
          "output_type": "stream",
          "text": [
            "Populating the interactive namespace from numpy and matplotlib\n"
          ],
          "name": "stdout"
        },
        {
          "output_type": "display_data",
          "data": {
            "image/png": "[encoded data removed]",
            "text/plain": [
              "<Figure size 432x288 with 1 Axes>"
            ]
          },
          "metadata": {
            "tags": []
          }
        }
      ]
    },
    {
      "metadata": {
        "id": "c9rE8ceRJdZF",
        "colab_type": "code",
        "outputId": "f0867238-fcd6-4f53-d697-e3a83d9b1158",
        "colab": {
          "base_uri": "https://localhost:8080/",
          "height": 1195
        }
      },
      "cell_type": "code",
      "source": [
        "%pylab inline\n",
        "import pandas as pd\n",
        "import numpy as np\n",
        "df = pd.read_csv('https://raw.githubusercontent.com/SophMC/LearnDataScience/master/datasets/UN.csv')\n",
        "\n",
        "print('-----------')\n",
        "# raw column information plus summary header\n",
        "print(df[0:10])\n",
        "print('-----------')\n",
        "# look at the types of each column explicitly\n",
        "print('Individual columns - Python data types')\n",
        "[(x, type(df[x][0])) for x in df.columns]"
      ],
      "execution_count": 0,
      "outputs": [
        {
          "output_type": "stream",
          "text": [
            "Populating the interactive namespace from numpy and matplotlib\n",
            "-----------\n",
            "          country   region   tfr  contraception  educationMale  \\\n",
            "0     Afghanistan     Asia  6.90            NaN            NaN   \n",
            "1         Albania   Europe  2.60            NaN            NaN   \n",
            "2         Algeria   Africa  3.81           52.0           11.1   \n",
            "3  American.Samoa     Asia   NaN            NaN            NaN   \n",
            "4         Andorra   Europe   NaN            NaN            NaN   \n",
            "5          Angola   Africa  6.69            NaN            NaN   \n",
            "6         Antigua  America   NaN           53.0            NaN   \n",
            "7       Argentina  America  2.62            NaN            NaN   \n",
            "8         Armenia   Europe  1.70           22.0            NaN   \n",
            "9       Australia  Oceania  1.89           76.0           16.3   \n",
            "\n",
            "   educationFemale  lifeMale  lifeFemale  infantMortality  GDPperCapita  \\\n",
            "0              NaN      45.0        46.0            154.0        2848.0   \n",
            "1              NaN      68.0        74.0             32.0         863.0   \n",
            "2              9.9      67.5        70.3             44.0        1531.0   \n",
            "3              NaN      68.0        73.0             11.0           NaN   \n",
            "4              NaN       NaN         NaN              NaN           NaN   \n",
            "5              NaN      44.9        48.1            124.0         355.0   \n",
            "6              NaN       NaN         NaN             24.0        6966.0   \n",
            "7              NaN      69.6        76.8             22.0        8055.0   \n",
            "8              NaN      67.2        74.0             25.0         354.0   \n",
            "9             16.1      75.4        81.2              6.0       20046.0   \n",
            "\n",
            "   economicActivityMale  economicActivityFemale  illiteracyMale  \\\n",
            "0                  87.5                     7.2          52.800   \n",
            "1                   NaN                     NaN             NaN   \n",
            "2                  76.4                     7.8          26.100   \n",
            "3                  58.8                    42.4           0.264   \n",
            "4                   NaN                     NaN             NaN   \n",
            "5                   NaN                     NaN             NaN   \n",
            "6                  74.4                    56.2             NaN   \n",
            "7                  76.2                    41.3           3.800   \n",
            "8                  65.0                    52.0           0.300   \n",
            "9                  74.0                    53.8             NaN   \n",
            "\n",
            "   illiteracyFemale  \n",
            "0             85.00  \n",
            "1               NaN  \n",
            "2             51.00  \n",
            "3              0.36  \n",
            "4               NaN  \n",
            "5               NaN  \n",
            "6               NaN  \n",
            "7              3.80  \n",
            "8              0.50  \n",
            "9               NaN  \n",
            "-----------\n",
            "Individual columns - Python data types\n"
          ],
          "name": "stdout"
        },
        {
          "output_type": "stream",
          "text": [
            "/usr/local/lib/python3.6/dist-packages/IPython/core/magics/pylab.py:161: UserWarning: pylab import has clobbered these variables: ['plt']\n",
            "`%matplotlib` prevents importing * from pylab and numpy\n",
            "  \"\\n`%matplotlib` prevents importing * from pylab and numpy\"\n"
          ],
          "name": "stderr"
        },
        {
          "output_type": "execute_result",
          "data": {
            "text/plain": [
              "[('country', str),\n",
              " ('region', str),\n",
              " ('tfr', numpy.float64),\n",
              " ('contraception', numpy.float64),\n",
              " ('educationMale', numpy.float64),\n",
              " ('educationFemale', numpy.float64),\n",
              " ('lifeMale', numpy.float64),\n",
              " ('lifeFemale', numpy.float64),\n",
              " ('infantMortality', numpy.float64),\n",
              " ('GDPperCapita', numpy.float64),\n",
              " ('economicActivityMale', numpy.float64),\n",
              " ('economicActivityFemale', numpy.float64),\n",
              " ('illiteracyMale', numpy.float64),\n",
              " ('illiteracyFemale', numpy.float64)]"
            ]
          },
          "metadata": {
            "tags": []
          },
          "execution_count": 63
        }
      ]
    },
    {
      "metadata": {
        "id": "QwYQbt_jMHrb",
        "colab_type": "code",
        "colab": {}
      },
      "cell_type": "code",
      "source": [
        "import pandas as pd\n",
        "df = pd.read_csv('https://raw.githubusercontent.com/SophMC/LearnDataScience/master/datasets/samsung/samsungdata.csv')"
      ],
      "execution_count": 0,
      "outputs": []
    },
    {
      "metadata": {
        "id": "0j6YeVwUMnU8",
        "colab_type": "code",
        "colab": {}
      },
      "cell_type": "code",
      "source": [
        "df = df.loc[:,~df.columns.duplicated()]"
      ],
      "execution_count": 0,
      "outputs": []
    },
    {
      "metadata": {
        "id": "6m4BJxhKM4Du",
        "colab_type": "code",
        "outputId": "074bf89f-1d0d-413d-9bc2-30bb5c0a712f",
        "colab": {
          "base_uri": "https://localhost:8080/",
          "height": 34
        }
      },
      "cell_type": "code",
      "source": [
        "%pylab inline\n",
        "# We pull in the training, validation and test sets created according to the scheme described\n",
        "# in the data exploration lesson.\n",
        "\n",
        "import pandas as pd\n",
        "\n",
        "samtrain = pd.read_csv('https://raw.githubusercontent.com/SophMC/LearnDataScience/master/datasets/samsung/samtrain.csv')\n",
        "samval = pd.read_csv('https://raw.githubusercontent.com/SophMC/LearnDataScience/master/datasets/samsung/samval.csv')\n",
        "samtest = pd.read_csv('https://raw.githubusercontent.com/SophMC/LearnDataScience/master/datasets/samsung/samtest.csv')\n",
        "\n",
        "# We use the Python RandomForest package from the scikits.learn collection of algorithms. \n",
        "# The package is called sklearn.ensemble.RandomForestClassifier\n",
        "\n",
        "# For this we need to convert the target column ('activity') to integer values \n",
        "# because the Python RandomForest package requires that.  \n",
        "# In R it would have been a \"factor\" type and R would have used that for classification.\n",
        "\n",
        "# We map activity to an integer according to\n",
        "# laying = 1, sitting = 2, standing = 3, walk = 4, walkup = 5, walkdown = 6\n",
        "# Code is in supporting library randomforest.py\n"
      ],
      "execution_count": 0,
      "outputs": [
        {
          "output_type": "stream",
          "text": [
            "Populating the interactive namespace from numpy and matplotlib\n"
          ],
          "name": "stdout"
        }
      ]
    },
    {
      "metadata": {
        "id": "-kIuEg7POzt-",
        "colab_type": "code",
        "colab": {}
      },
      "cell_type": "code",
      "source": [
        "import sklearn.ensemble as sk\n",
        "#rfc = sk.RandomForestClassifier(n_estimators=500, compute_importances=True, oob_score=True)\n",
        "rfc = sk.RandomForestClassifier(n_estimators=500, oob_score=True)\n",
        "\n",
        "train_data = samtrain[samtrain.columns[1:-2]]\n",
        "train_truth = samtrain['activity']\n",
        "model = rfc.fit(train_data, train_truth)"
      ],
      "execution_count": 0,
      "outputs": []
    },
    {
      "metadata": {
        "id": "zZABd9D-O4KC",
        "colab_type": "code",
        "outputId": "491666d1-3cf0-462b-d324-17bbe64d5cdf",
        "colab": {
          "base_uri": "https://localhost:8080/",
          "height": 34
        }
      },
      "cell_type": "code",
      "source": [
        "rfc.oob_score_"
      ],
      "execution_count": 0,
      "outputs": [
        {
          "output_type": "execute_result",
          "data": {
            "text/plain": [
              "0.979467680608365"
            ]
          },
          "metadata": {
            "tags": []
          },
          "execution_count": 68
        }
      ]
    },
    {
      "metadata": {
        "id": "UcXlZCYmO7uC",
        "colab_type": "code",
        "colab": {}
      },
      "cell_type": "code",
      "source": [
        "fi = enumerate(rfc.feature_importances_)\n",
        "cols = samtrain.columns"
      ],
      "execution_count": 0,
      "outputs": []
    },
    {
      "metadata": {
        "id": "gu5U_2KqO_H_",
        "colab_type": "code",
        "outputId": "9cf1f8a8-5536-41de-867a-29e1aa28006a",
        "colab": {
          "base_uri": "https://localhost:8080/",
          "height": 190
        }
      },
      "cell_type": "code",
      "source": [
        "[(value,cols[i]) for (i,value) in fi if value > 0.04]"
      ],
      "execution_count": 0,
      "outputs": [
        {
          "output_type": "execute_result",
          "data": {
            "text/plain": [
              "[(0.041270502861072283, 'Unnamed: 0'),\n",
              " (0.0514238880346828, 'tAccMean'),\n",
              " (0.042770738500313474, 'tAccStd'),\n",
              " (0.043241216338483025, 'tJerkMean'),\n",
              " (0.050916205447607686, 'tGyroJerkMagSD'),\n",
              " (0.05589032196814731, 'fAccMean'),\n",
              " (0.0431791615421185, 'fJerkSD'),\n",
              " (0.1348061782453852, 'angleGyroJerkGravity'),\n",
              " (0.1700704022184325, 'angleXGravity'),\n",
              " (0.0489377741636958, 'angleYGravity')]"
            ]
          },
          "metadata": {
            "tags": []
          },
          "execution_count": 70
        }
      ]
    },
    {
      "metadata": {
        "id": "7Q3L4Mc8PCTY",
        "colab_type": "code",
        "colab": {}
      },
      "cell_type": "code",
      "source": [
        "val_data = samval[samval.columns[1:-2]]\n",
        "val_truth = samval['activity']\n",
        "val_pred = rfc.predict(val_data)\n",
        "\n",
        "test_data = samtest[samtest.columns[1:-2]]\n",
        "test_truth = samtest['activity']\n",
        "test_pred = rfc.predict(test_data)"
      ],
      "execution_count": 0,
      "outputs": []
    },
    {
      "metadata": {
        "id": "-2VF8oC8PEiV",
        "colab_type": "code",
        "outputId": "0b1ab7f3-73af-4642-80f3-f3927220fe27",
        "colab": {
          "base_uri": "https://localhost:8080/",
          "height": 51
        }
      },
      "cell_type": "code",
      "source": [
        "print(\"mean accuracy score for validation set = %f\" %(rfc.score(val_data, val_truth)))\n",
        "print(\"mean accuracy score for test set = %f\" %(rfc.score(test_data, test_truth)))"
      ],
      "execution_count": 0,
      "outputs": [
        {
          "output_type": "stream",
          "text": [
            "mean accuracy score for validation set = 0.840168\n",
            "mean accuracy score for test set = 0.901010\n"
          ],
          "name": "stdout"
        }
      ]
    },
    {
      "metadata": {
        "id": "w2794nNLPHPp",
        "colab_type": "code",
        "colab": {}
      },
      "cell_type": "code",
      "source": [
        "import sklearn.metrics as skm\n",
        "test_cm = skm.confusion_matrix(test_truth,test_pred)"
      ],
      "execution_count": 0,
      "outputs": []
    },
    {
      "metadata": {
        "id": "y-qes86kPJUp",
        "colab_type": "code",
        "outputId": "c12a4a72-6960-414b-d2da-f8edd0a252aa",
        "colab": {
          "base_uri": "https://localhost:8080/",
          "height": 278
        }
      },
      "cell_type": "code",
      "source": [
        "import pylab as pl\n",
        "pl.matshow(test_cm)\n",
        "pl.title('Confusion matrix for test data\\n'\n",
        "         + '                               ')\n",
        "pl.colorbar()\n",
        "pl.show()"
      ],
      "execution_count": 0,
      "outputs": [
        {
          "output_type": "display_data",
          "data": {
            "image/png": "[encoded data removed]",
            "text/plain": [
              "<Figure size 288x288 with 2 Axes>"
            ]
          },
          "metadata": {
            "tags": []
          }
        }
      ]
    },
    {
      "metadata": {
        "id": "bdnHIvstPMBq",
        "colab_type": "code",
        "outputId": "0f5db2df-7f10-4026-fe7d-80c58cc1a418",
        "colab": {
          "base_uri": "https://localhost:8080/",
          "height": 34
        }
      },
      "cell_type": "code",
      "source": [
        "print(\"Accuracy = %f\" %(skm.accuracy_score(test_truth,test_pred)))"
      ],
      "execution_count": 0,
      "outputs": [
        {
          "output_type": "stream",
          "text": [
            "Accuracy = 0.901010\n"
          ],
          "name": "stdout"
        }
      ]
    },
    {
      "metadata": {
        "id": "ew1k7dgCPOuP",
        "colab_type": "code",
        "outputId": "13b056d8-3812-4d15-99a2-ab6ceb759b8e",
        "colab": {
          "base_uri": "https://localhost:8080/",
          "height": 409
        }
      },
      "cell_type": "code",
      "source": [
        "print(\"Precision = %f\" %(skm.precision_score(test_truth,test_pred)))"
      ],
      "execution_count": 0,
      "outputs": [
        {
          "output_type": "error",
          "ename": "ValueError",
          "evalue": "ignored",
          "traceback": [
            "\u001b[0;31m---------------------------------------------------------------------------\u001b[0m",
            "\u001b[0;31mValueError\u001b[0m                                Traceback (most recent call last)",
            "\u001b[0;32m<ipython-input-76-8cc7437ed37d>\u001b[0m in \u001b[0;36m<module>\u001b[0;34m()\u001b[0m\n\u001b[0;32m----> 1\u001b[0;31m \u001b[0mprint\u001b[0m\u001b[0;34m(\u001b[0m\u001b[0;34m\"Precision = %f\"\u001b[0m \u001b[0;34m%\u001b[0m\u001b[0;34m(\u001b[0m\u001b[0mskm\u001b[0m\u001b[0;34m.\u001b[0m\u001b[0mprecision_score\u001b[0m\u001b[0;34m(\u001b[0m\u001b[0mtest_truth\u001b[0m\u001b[0;34m,\u001b[0m\u001b[0mtest_pred\u001b[0m\u001b[0;34m)\u001b[0m\u001b[0;34m)\u001b[0m\u001b[0;34m)\u001b[0m\u001b[0;34m\u001b[0m\u001b[0;34m\u001b[0m\u001b[0m\n\u001b[0m",
            "\u001b[0;32m/usr/local/lib/python3.6/dist-packages/sklearn/metrics/classification.py\u001b[0m in \u001b[0;36mprecision_score\u001b[0;34m(y_true, y_pred, labels, pos_label, average, sample_weight)\u001b[0m\n\u001b[1;32m   1267\u001b[0m                                                  \u001b[0maverage\u001b[0m\u001b[0;34m=\u001b[0m\u001b[0maverage\u001b[0m\u001b[0;34m,\u001b[0m\u001b[0;34m\u001b[0m\u001b[0;34m\u001b[0m\u001b[0m\n\u001b[1;32m   1268\u001b[0m                                                  \u001b[0mwarn_for\u001b[0m\u001b[0;34m=\u001b[0m\u001b[0;34m(\u001b[0m\u001b[0;34m'precision'\u001b[0m\u001b[0;34m,\u001b[0m\u001b[0;34m)\u001b[0m\u001b[0;34m,\u001b[0m\u001b[0;34m\u001b[0m\u001b[0;34m\u001b[0m\u001b[0m\n\u001b[0;32m-> 1269\u001b[0;31m                                                  sample_weight=sample_weight)\n\u001b[0m\u001b[1;32m   1270\u001b[0m     \u001b[0;32mreturn\u001b[0m \u001b[0mp\u001b[0m\u001b[0;34m\u001b[0m\u001b[0;34m\u001b[0m\u001b[0m\n\u001b[1;32m   1271\u001b[0m \u001b[0;34m\u001b[0m\u001b[0m\n",
            "\u001b[0;32m/usr/local/lib/python3.6/dist-packages/sklearn/metrics/classification.py\u001b[0m in \u001b[0;36mprecision_recall_fscore_support\u001b[0;34m(y_true, y_pred, beta, labels, pos_label, average, warn_for, sample_weight)\u001b[0m\n\u001b[1;32m   1045\u001b[0m         \u001b[0;32melse\u001b[0m\u001b[0;34m:\u001b[0m\u001b[0;34m\u001b[0m\u001b[0;34m\u001b[0m\u001b[0m\n\u001b[1;32m   1046\u001b[0m             raise ValueError(\"Target is %s but average='binary'. Please \"\n\u001b[0;32m-> 1047\u001b[0;31m                              \"choose another average setting.\" % y_type)\n\u001b[0m\u001b[1;32m   1048\u001b[0m     \u001b[0;32melif\u001b[0m \u001b[0mpos_label\u001b[0m \u001b[0;32mnot\u001b[0m \u001b[0;32min\u001b[0m \u001b[0;34m(\u001b[0m\u001b[0;32mNone\u001b[0m\u001b[0;34m,\u001b[0m \u001b[0;36m1\u001b[0m\u001b[0;34m)\u001b[0m\u001b[0;34m:\u001b[0m\u001b[0;34m\u001b[0m\u001b[0;34m\u001b[0m\u001b[0m\n\u001b[1;32m   1049\u001b[0m         warnings.warn(\"Note that pos_label (set to %r) is ignored when \"\n",
            "\u001b[0;31mValueError\u001b[0m: Target is multiclass but average='binary'. Please choose another average setting."
          ]
        }
      ]
    },
    {
      "metadata": {
        "id": "cmKo68AiPRdR",
        "colab_type": "code",
        "colab": {}
      },
      "cell_type": "code",
      "source": [
        "print(\"Precision = %f\" %(skm.precision_score(test_truth,test_pred)))"
      ],
      "execution_count": 0,
      "outputs": []
    },
    {
      "metadata": {
        "id": "92ANifMrPTI0",
        "colab_type": "code",
        "colab": {}
      },
      "cell_type": "code",
      "source": [
        "print(\"F1 score = %f\" %(skm.f1_score(test_truth,test_pred)))"
      ],
      "execution_count": 0,
      "outputs": []
    }
  ]
}